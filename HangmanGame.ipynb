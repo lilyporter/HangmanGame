{
 "cells": [
  {
   "cell_type": "code",
   "execution_count": 7,
   "id": "e5ac613f",
   "metadata": {},
   "outputs": [
    {
     "name": "stdout",
     "output_type": "stream",
     "text": [
      "backpack\n",
      "Here is the length of the secret word: \n",
      "________\n",
      "Please guess a letter: a\n",
      "That letter is in the word! :)\n",
      "_a___a__\n",
      "Please guess a letter: e\n",
      "That letter is not in the word! :(\n",
      "You only have  8  mistakes left\n",
      "_a___a__\n",
      "Please guess a letter: b\n",
      "That letter is in the word! :)\n",
      "ba___a__\n",
      "Please guess a letter: c\n",
      "That letter is in the word! :)\n",
      "bac__ac_\n",
      "Please guess a letter: k\n",
      "That letter is in the word! :)\n",
      "back_ack\n",
      "Please guess a letter: k\n",
      "That letter is in the word! :)\n",
      "back_ack\n",
      "Please guess a letter: k\n",
      "That letter is in the word! :)\n",
      "back_ack\n",
      "Please guess a letter: p\n",
      "That letter is in the word! :)\n",
      "backpack\n",
      "Congratulations! You've guessed the word!\n"
     ]
    }
   ],
   "source": [
    "import random\n",
    "\n",
    "words = [\"chicken\", \"skateboard\", \"popsicle\", \"computer\", \"fire\", \"turtle\", \"backpack\", \"eyes\", \"bat\", \"grass\", \n",
    "         \"suitcase\", \"airplane\"]\n",
    "\n",
    "secretword = random.choice(words)\n",
    "\n",
    "printed_word = \"\"\n",
    "\n",
    "def check_letter(letter):\n",
    "    if letter in secretword:\n",
    "        print(\"That letter is in the word! :)\")\n",
    "        return True\n",
    "    print(\"That letter is not in the word! :(\")\n",
    "    return False\n",
    "        \n",
    "    \n",
    "for x in range(len(secretword)):\n",
    "    printed_word += \"_\"\n",
    "print(secretword)\n",
    "print(\"Here is the length of the secret word: \")\n",
    "print(printed_word)\n",
    "\n",
    "chances = 9\n",
    "while chances > 0:\n",
    "    if secretword == printed_word:\n",
    "        print(\"Congratulations! You've guessed the word!\")\n",
    "        break\n",
    "    guess = input(\"Please guess a letter: \")\n",
    "    if (check_letter(guess)) == True:\n",
    "        for x in range(len(secretword)):\n",
    "            y=secretword[x]\n",
    "            if secretword[x] == guess:\n",
    "                printed_word = printed_word[:x] + guess + printed_word[x+1:]\n",
    "    else:\n",
    "        chances-=1\n",
    "        print(\"You only have \", chances, \" mistakes left\")\n",
    "    print(printed_word)\n",
    "if chances == 0:\n",
    "        print(\"Unfortunately you didn't guess the word. Please try again.\")"
   ]
  }
 ],
 "metadata": {
  "kernelspec": {
   "display_name": "Python 3 (ipykernel)",
   "language": "python",
   "name": "python3"
  },
  "language_info": {
   "codemirror_mode": {
    "name": "ipython",
    "version": 3
   },
   "file_extension": ".py",
   "mimetype": "text/x-python",
   "name": "python",
   "nbconvert_exporter": "python",
   "pygments_lexer": "ipython3",
   "version": "3.9.13"
  }
 },
 "nbformat": 4,
 "nbformat_minor": 5
}
